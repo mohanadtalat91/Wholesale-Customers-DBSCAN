{
 "cells": [
  {
   "cell_type": "code",
   "execution_count": 1,
   "metadata": {
    "id": "6YHtJx4VqxqI"
   },
   "outputs": [],
   "source": [
    "import pandas as pd \n",
    "import numpy as np \n",
    "from sklearn.preprocessing import StandardScaler, MinMaxScaler\n",
    "from sklearn.cluster import DBSCAN "
   ]
  },
  {
   "cell_type": "code",
   "execution_count": 2,
   "metadata": {
    "id": "1XabWJi7rRnu"
   },
   "outputs": [],
   "source": [
    "df = pd.read_csv('Wholesale customers data.csv')"
   ]
  },
  {
   "cell_type": "code",
   "execution_count": 3,
   "metadata": {
    "colab": {
     "base_uri": "https://localhost:8080/"
    },
    "id": "SxEs9MjusEnA",
    "outputId": "30ed8a05-5923-4b29-b0c2-8897c85c14db"
   },
   "outputs": [
    {
     "data": {
      "text/plain": [
       "(440, 8)"
      ]
     },
     "execution_count": 3,
     "metadata": {},
     "output_type": "execute_result"
    }
   ],
   "source": [
    "df.shape"
   ]
  },
  {
   "cell_type": "code",
   "execution_count": 4,
   "metadata": {
    "colab": {
     "base_uri": "https://localhost:8080/",
     "height": 270
    },
    "id": "bgvh-vpKsHiW",
    "outputId": "448aef00-f81a-4b18-9e86-907c86a9c6fc"
   },
   "outputs": [
    {
     "data": {
      "text/html": [
       "<div>\n",
       "<style scoped>\n",
       "    .dataframe tbody tr th:only-of-type {\n",
       "        vertical-align: middle;\n",
       "    }\n",
       "\n",
       "    .dataframe tbody tr th {\n",
       "        vertical-align: top;\n",
       "    }\n",
       "\n",
       "    .dataframe thead th {\n",
       "        text-align: right;\n",
       "    }\n",
       "</style>\n",
       "<table border=\"1\" class=\"dataframe\">\n",
       "  <thead>\n",
       "    <tr style=\"text-align: right;\">\n",
       "      <th></th>\n",
       "      <th>Channel</th>\n",
       "      <th>Region</th>\n",
       "      <th>Fresh</th>\n",
       "      <th>Milk</th>\n",
       "      <th>Grocery</th>\n",
       "      <th>Frozen</th>\n",
       "      <th>Detergents_Paper</th>\n",
       "      <th>Delicassen</th>\n",
       "    </tr>\n",
       "  </thead>\n",
       "  <tbody>\n",
       "    <tr>\n",
       "      <th>0</th>\n",
       "      <td>2</td>\n",
       "      <td>3</td>\n",
       "      <td>12669</td>\n",
       "      <td>9656</td>\n",
       "      <td>7561</td>\n",
       "      <td>214</td>\n",
       "      <td>2674</td>\n",
       "      <td>1338</td>\n",
       "    </tr>\n",
       "    <tr>\n",
       "      <th>1</th>\n",
       "      <td>2</td>\n",
       "      <td>3</td>\n",
       "      <td>7057</td>\n",
       "      <td>9810</td>\n",
       "      <td>9568</td>\n",
       "      <td>1762</td>\n",
       "      <td>3293</td>\n",
       "      <td>1776</td>\n",
       "    </tr>\n",
       "    <tr>\n",
       "      <th>2</th>\n",
       "      <td>2</td>\n",
       "      <td>3</td>\n",
       "      <td>6353</td>\n",
       "      <td>8808</td>\n",
       "      <td>7684</td>\n",
       "      <td>2405</td>\n",
       "      <td>3516</td>\n",
       "      <td>7844</td>\n",
       "    </tr>\n",
       "    <tr>\n",
       "      <th>3</th>\n",
       "      <td>1</td>\n",
       "      <td>3</td>\n",
       "      <td>13265</td>\n",
       "      <td>1196</td>\n",
       "      <td>4221</td>\n",
       "      <td>6404</td>\n",
       "      <td>507</td>\n",
       "      <td>1788</td>\n",
       "    </tr>\n",
       "    <tr>\n",
       "      <th>4</th>\n",
       "      <td>2</td>\n",
       "      <td>3</td>\n",
       "      <td>22615</td>\n",
       "      <td>5410</td>\n",
       "      <td>7198</td>\n",
       "      <td>3915</td>\n",
       "      <td>1777</td>\n",
       "      <td>5185</td>\n",
       "    </tr>\n",
       "  </tbody>\n",
       "</table>\n",
       "</div>"
      ],
      "text/plain": [
       "   Channel  Region  Fresh  Milk  Grocery  Frozen  Detergents_Paper  Delicassen\n",
       "0        2       3  12669  9656     7561     214              2674        1338\n",
       "1        2       3   7057  9810     9568    1762              3293        1776\n",
       "2        2       3   6353  8808     7684    2405              3516        7844\n",
       "3        1       3  13265  1196     4221    6404               507        1788\n",
       "4        2       3  22615  5410     7198    3915              1777        5185"
      ]
     },
     "execution_count": 4,
     "metadata": {},
     "output_type": "execute_result"
    }
   ],
   "source": [
    "df.head()"
   ]
  },
  {
   "cell_type": "code",
   "execution_count": 5,
   "metadata": {
    "colab": {
     "base_uri": "https://localhost:8080/"
    },
    "id": "cuSKUcuTsLHV",
    "outputId": "f5b52f31-2fe5-4fdc-ca45-6e2186921d53"
   },
   "outputs": [
    {
     "data": {
      "text/plain": [
       "Channel             0\n",
       "Region              0\n",
       "Fresh               0\n",
       "Milk                0\n",
       "Grocery             0\n",
       "Frozen              0\n",
       "Detergents_Paper    0\n",
       "Delicassen          0\n",
       "dtype: int64"
      ]
     },
     "execution_count": 5,
     "metadata": {},
     "output_type": "execute_result"
    }
   ],
   "source": [
    "df.isnull().sum()"
   ]
  },
  {
   "cell_type": "code",
   "execution_count": 6,
   "metadata": {},
   "outputs": [],
   "source": [
    "model = DBSCAN(eps=1000, min_samples=2)\n",
    "DBSCAN_labels = model.fit(df)"
   ]
  },
  {
   "cell_type": "code",
   "execution_count": 7,
   "metadata": {},
   "outputs": [
    {
     "data": {
      "text/plain": [
       "array([-1, -1, -1, -1, -1, -1, -1, -1, -1, -1, -1, -1, -1, -1, -1, -1, -1,\n",
       "       -1, -1, -1, -1, -1, -1, -1, -1, -1, -1, -1, -1, -1, -1, -1, -1, -1,\n",
       "        0, -1, -1, -1, -1, -1, -1, -1, -1, -1, -1, -1, -1, -1, -1, -1, -1,\n",
       "       -1, -1, -1, -1, -1, -1, -1,  1, -1, -1, -1, -1, -1, -1, -1, -1, -1,\n",
       "       -1, -1, -1, -1, -1, -1, -1, -1, -1, -1, -1, -1,  2, -1, -1,  3, -1,\n",
       "       -1, -1, -1, -1, -1, -1, -1, -1, -1, -1, -1, -1,  4,  4, -1, -1, -1,\n",
       "       -1, -1, -1, -1, -1, -1, -1, -1,  5, -1, -1, -1,  6, -1, -1, -1, -1,\n",
       "       -1, -1, -1, -1, -1, -1, -1, -1, -1, -1, -1, -1, -1, -1, -1,  7, -1,\n",
       "       -1, -1, -1, -1, -1, -1, -1, -1, -1, -1,  7, -1, -1, -1, -1, -1,  8,\n",
       "       -1,  4, -1, -1, -1, -1, -1, -1, -1, -1, -1, -1, -1, -1, -1,  9, -1,\n",
       "       -1, -1, -1, -1, -1, -1, -1, -1, -1, -1, -1, -1, -1, -1, -1, -1, -1,\n",
       "       -1, -1, -1, -1, -1, -1, -1,  2, -1, -1, -1, -1, 10, -1, -1, -1, 11,\n",
       "       -1, -1,  9, -1, -1, -1, -1, -1, -1, -1, -1, -1, -1,  6, -1, -1, -1,\n",
       "       -1, -1, -1, -1, -1, -1, -1, -1, -1, -1, -1, -1, -1, -1, -1, -1, -1,\n",
       "       -1, -1, -1, -1, -1, -1, -1, -1, 10, -1, -1, -1, -1, -1, -1, -1, -1,\n",
       "       -1, -1, -1, -1, -1, -1, -1, -1, -1, -1, -1, -1, -1, -1, -1, -1, -1,\n",
       "       -1, -1, -1, -1, -1, -1, -1, -1, 12, -1, -1, -1, -1, -1, -1, -1, -1,\n",
       "       -1, -1, -1, -1, -1, -1, -1,  8, -1, -1, 11, -1, -1, -1, -1, -1, -1,\n",
       "       -1, -1,  2, -1, -1, -1, -1, -1, -1, -1, -1, -1, -1, -1, -1, -1, -1,\n",
       "       -1, -1, -1, 13, 11, -1, -1, -1, -1, -1, -1, -1, -1,  1, -1, -1, -1,\n",
       "       -1, -1, -1, -1, 14, -1, -1, -1, -1, -1, 14, -1, 11, -1, -1, 11, -1,\n",
       "       -1, -1, -1, -1, -1,  0, -1, -1, -1, 10, -1, -1,  9, -1, -1, -1, -1,\n",
       "       -1,  9, -1, -1, 12, -1, -1, -1, -1, -1, -1,  5, -1,  3, 15, 16, -1,\n",
       "       -1, -1, -1, -1, 16, -1, -1, -1, 15, 13, -1, -1, -1, -1, -1, -1, -1,\n",
       "       -1, -1, -1, -1, -1, -1, -1, -1, -1, -1, -1, -1, -1, -1, -1, -1, -1,\n",
       "       -1, -1, -1, -1, -1, -1, -1, -1, -1, -1, -1, -1, -1, -1, -1],\n",
       "      dtype=int64)"
      ]
     },
     "execution_count": 7,
     "metadata": {},
     "output_type": "execute_result"
    }
   ],
   "source": [
    "DBSCAN_labels.labels_ "
   ]
  },
  {
   "cell_type": "markdown",
   "metadata": {},
   "source": [
    "## Apply PCA"
   ]
  },
  {
   "cell_type": "code",
   "execution_count": 8,
   "metadata": {
    "id": "CmFHBiIxs4tv"
   },
   "outputs": [],
   "source": [
    "num_components = 3"
   ]
  },
  {
   "cell_type": "code",
   "execution_count": 9,
   "metadata": {
    "id": "xom_MYpRu-Io"
   },
   "outputs": [],
   "source": [
    "X_meaned = df - np.mean(df , axis = 0)"
   ]
  },
  {
   "cell_type": "code",
   "execution_count": 10,
   "metadata": {
    "id": "zlMO4ZhkvNBK"
   },
   "outputs": [],
   "source": [
    "cov_mat = np.cov(X_meaned , rowvar = False)"
   ]
  },
  {
   "cell_type": "code",
   "execution_count": 11,
   "metadata": {
    "id": "ZqXtdalFvWNX"
   },
   "outputs": [],
   "source": [
    "eigen_values , eigen_vectors = np.linalg.eigh(cov_mat)"
   ]
  },
  {
   "cell_type": "code",
   "execution_count": 12,
   "metadata": {
    "id": "GsO7SLdjvZbF"
   },
   "outputs": [],
   "source": [
    "sorted_index = np.argsort(eigen_values)[::-1]\n",
    "sorted_eigenvalue = eigen_values[sorted_index]\n",
    "sorted_eigenvectors = eigen_vectors[:,sorted_index]"
   ]
  },
  {
   "cell_type": "code",
   "execution_count": 13,
   "metadata": {
    "id": "LbZWmWJxvzoh"
   },
   "outputs": [],
   "source": [
    "eigenvector_subset = sorted_eigenvectors[:,0:num_components]"
   ]
  },
  {
   "cell_type": "code",
   "execution_count": 14,
   "metadata": {
    "id": "uHO9yavEv1_p"
   },
   "outputs": [],
   "source": [
    "X_reduced = np.dot(eigenvector_subset.transpose() , X_meaned.transpose() ).transpose()\n"
   ]
  },
  {
   "cell_type": "code",
   "execution_count": 15,
   "metadata": {
    "colab": {
     "base_uri": "https://localhost:8080/"
    },
    "id": "0bMeQ1eCwD7n",
    "outputId": "498a4e77-6ea1-465a-d548-2ffd5855dd93"
   },
   "outputs": [
    {
     "data": {
      "text/plain": [
       "(440, 3)"
      ]
     },
     "execution_count": 15,
     "metadata": {},
     "output_type": "execute_result"
    }
   ],
   "source": [
    "X_reduced.shape  #Now we have the same number of features as the number of components  "
   ]
  },
  {
   "cell_type": "code",
   "execution_count": 16,
   "metadata": {
    "colab": {
     "base_uri": "https://localhost:8080/"
    },
    "id": "nhbORFhzwHuB",
    "outputId": "217cdc70-5aae-4c45-ec7d-283d8b30354b"
   },
   "outputs": [
    {
     "data": {
      "text/plain": [
       "array([[   650.02211956,   1585.51910693,    -95.39065399],\n",
       "       [ -4426.80498362,   4042.45152053,   1534.8047351 ],\n",
       "       [ -4841.99870994,   2578.76218764,   3801.38478039],\n",
       "       ...,\n",
       "       [  4555.11497765,  26201.75861611,  -5887.43291762],\n",
       "       [ -2734.37091187,  -7070.77534304,   -790.70302385],\n",
       "       [-10370.12530647,  -6161.4649232 ,  -1017.14237907]])"
      ]
     },
     "execution_count": 16,
     "metadata": {},
     "output_type": "execute_result"
    }
   ],
   "source": [
    "X_reduced"
   ]
  },
  {
   "cell_type": "code",
   "execution_count": 17,
   "metadata": {},
   "outputs": [],
   "source": [
    "model = DBSCAN(eps=1000, min_samples=2)\n",
    "DBSCAN_labels = model.fit(X_reduced)"
   ]
  },
  {
   "cell_type": "code",
   "execution_count": 18,
   "metadata": {},
   "outputs": [
    {
     "data": {
      "text/plain": [
       "array([-1, -1, -1, -1, -1, -1, -1,  0, -1, -1, -1, -1, -1, -1, -1, -1,  1,\n",
       "       -1, -1,  2, -1,  3, -1, -1, -1,  4,  3,  5, -1, -1, -1,  6, -1, -1,\n",
       "        7, -1, -1, -1, -1, -1,  8, -1, -1,  9, -1, -1, -1, -1, -1, -1, -1,\n",
       "       -1, -1, -1, -1, -1, -1, -1, 10, -1,  2, -1, -1, -1, -1, -1, -1, -1,\n",
       "       -1,  3, -1, -1, -1, -1,  0, -1, -1, -1,  3, -1,  3, 11, -1, 12, 13,\n",
       "       -1, -1, -1, 14, -1, 15, -1, -1, -1, -1, -1, -1, 16, 16, -1, -1, -1,\n",
       "       17, -1, -1,  5, -1, -1, -1, -1, 15, -1, -1, -1, 18,  3, 19, -1, -1,\n",
       "       20, 21, 22, 23, -1, -1, -1, 24, -1, -1, -1, -1, -1,  5, 25,  3,  3,\n",
       "       -1, 17, -1, -1, -1, -1, -1, -1, 18, -1,  3, 26, -1, -1, -1,  6, 18,\n",
       "       -1, 16, -1, 27, 18, -1, -1, -1, 23, 28, -1, -1, -1, -1, 29,  3,  3,\n",
       "       -1, -1, 30, -1, 31, 32, -1, -1, -1, -1, -1, -1,  1, -1, -1, -1, -1,\n",
       "       -1, -1, -1, -1, 10,  3, -1,  3, -1, -1, -1, 13,  3, -1, -1, -1,  7,\n",
       "       29,  9,  3, -1, -1, -1, 18, -1,  3, 17, 32, -1, -1, 18, -1, 33, 34,\n",
       "       -1, -1,  6,  3, -1, -1, 22,  7, 14, -1, -1, 35, 31, -1, -1,  3, -1,\n",
       "        3, -1, -1, -1, 18, 13, -1, 27,  3, -1, 28, 14,  7, -1, -1, -1, -1,\n",
       "       -1, 13, 20, -1, -1, 26, -1, -1, -1, 11, -1, -1, -1, -1, 34, -1,  6,\n",
       "       -1, -1,  7, -1, -1, -1, -1, -1,  7, -1, -1, -1, -1, -1,  3, -1, -1,\n",
       "       -1,  7, 36,  6, -1, -1, -1, 18, 37, -1,  7, -1, -1, -1, -1, -1, -1,\n",
       "       -1, 21,  3, -1, -1, -1, -1,  3, -1, -1,  3, -1, 19, -1,  6, 26, 28,\n",
       "       -1, -1, -1, 22,  7, -1, 36, 26, -1, -1, -1, -1, -1, 10, -1, -1, -1,\n",
       "       38, 32, 30, -1,  7, -1, -1, -1,  7, -1,  7,  9,  7, -1, -1,  7, -1,\n",
       "       -1, -1, 31, -1, 33,  7, -1, -1, -1,  3, 33, -1,  3, -1, 24, 22, -1,\n",
       "        3,  3, -1, -1,  7, -1, -1, -1, -1,  6, -1, 15, 31, 12, 25,  3, -1,\n",
       "        7, 31,  8, -1,  3, -1, -1, -1, 25, 22, -1, -1, -1, -1,  3, -1, -1,\n",
       "       37, -1, -1,  6, 38, -1, -1,  0, -1, -1, -1, 26, -1, -1, 35, -1, -1,\n",
       "       -1, -1, -1, -1, -1, -1, -1, -1,  6,  4, -1, -1, -1,  3,  7],\n",
       "      dtype=int64)"
      ]
     },
     "execution_count": 18,
     "metadata": {},
     "output_type": "execute_result"
    }
   ],
   "source": [
    "DBSCAN_labels.labels_ "
   ]
  },
  {
   "cell_type": "code",
   "execution_count": null,
   "metadata": {},
   "outputs": [],
   "source": []
  }
 ],
 "metadata": {
  "colab": {
   "provenance": []
  },
  "kernelspec": {
   "display_name": "Python 3 (ipykernel)",
   "language": "python",
   "name": "python3"
  },
  "language_info": {
   "codemirror_mode": {
    "name": "ipython",
    "version": 3
   },
   "file_extension": ".py",
   "mimetype": "text/x-python",
   "name": "python",
   "nbconvert_exporter": "python",
   "pygments_lexer": "ipython3",
   "version": "3.9.7"
  },
  "varInspector": {
   "cols": {
    "lenName": 16,
    "lenType": 16,
    "lenVar": 40
   },
   "kernels_config": {
    "python": {
     "delete_cmd_postfix": "",
     "delete_cmd_prefix": "del ",
     "library": "var_list.py",
     "varRefreshCmd": "print(var_dic_list())"
    },
    "r": {
     "delete_cmd_postfix": ") ",
     "delete_cmd_prefix": "rm(",
     "library": "var_list.r",
     "varRefreshCmd": "cat(var_dic_list()) "
    }
   },
   "types_to_exclude": [
    "module",
    "function",
    "builtin_function_or_method",
    "instance",
    "_Feature"
   ],
   "window_display": false
  }
 },
 "nbformat": 4,
 "nbformat_minor": 1
}
